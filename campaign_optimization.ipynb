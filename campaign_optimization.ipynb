{
 "cells": [
  {
   "cell_type": "code",
   "execution_count": 1,
   "id": "035e9120",
   "metadata": {},
   "outputs": [
    {
     "data": {
      "text/html": [
       "<div>\n",
       "<style scoped>\n",
       "    .dataframe tbody tr th:only-of-type {\n",
       "        vertical-align: middle;\n",
       "    }\n",
       "\n",
       "    .dataframe tbody tr th {\n",
       "        vertical-align: top;\n",
       "    }\n",
       "\n",
       "    .dataframe thead th {\n",
       "        text-align: right;\n",
       "    }\n",
       "</style>\n",
       "<table border=\"1\" class=\"dataframe\">\n",
       "  <thead>\n",
       "    <tr style=\"text-align: right;\">\n",
       "      <th></th>\n",
       "      <th>ID</th>\n",
       "      <th>Promotion</th>\n",
       "      <th>purchase</th>\n",
       "      <th>V1</th>\n",
       "      <th>V2</th>\n",
       "      <th>V3</th>\n",
       "      <th>V4</th>\n",
       "      <th>V5</th>\n",
       "      <th>V6</th>\n",
       "      <th>V7</th>\n",
       "    </tr>\n",
       "  </thead>\n",
       "  <tbody>\n",
       "    <tr>\n",
       "      <th>0</th>\n",
       "      <td>1</td>\n",
       "      <td>No</td>\n",
       "      <td>0</td>\n",
       "      <td>2</td>\n",
       "      <td>30.443518</td>\n",
       "      <td>-1.165083</td>\n",
       "      <td>1</td>\n",
       "      <td>1</td>\n",
       "      <td>3</td>\n",
       "      <td>2</td>\n",
       "    </tr>\n",
       "    <tr>\n",
       "      <th>1</th>\n",
       "      <td>3</td>\n",
       "      <td>No</td>\n",
       "      <td>0</td>\n",
       "      <td>3</td>\n",
       "      <td>32.159350</td>\n",
       "      <td>-0.645617</td>\n",
       "      <td>2</td>\n",
       "      <td>3</td>\n",
       "      <td>2</td>\n",
       "      <td>2</td>\n",
       "    </tr>\n",
       "    <tr>\n",
       "      <th>2</th>\n",
       "      <td>4</td>\n",
       "      <td>No</td>\n",
       "      <td>0</td>\n",
       "      <td>2</td>\n",
       "      <td>30.431659</td>\n",
       "      <td>0.133583</td>\n",
       "      <td>1</td>\n",
       "      <td>1</td>\n",
       "      <td>4</td>\n",
       "      <td>2</td>\n",
       "    </tr>\n",
       "    <tr>\n",
       "      <th>3</th>\n",
       "      <td>5</td>\n",
       "      <td>No</td>\n",
       "      <td>0</td>\n",
       "      <td>0</td>\n",
       "      <td>26.588914</td>\n",
       "      <td>-0.212728</td>\n",
       "      <td>2</td>\n",
       "      <td>1</td>\n",
       "      <td>4</td>\n",
       "      <td>2</td>\n",
       "    </tr>\n",
       "    <tr>\n",
       "      <th>4</th>\n",
       "      <td>8</td>\n",
       "      <td>Yes</td>\n",
       "      <td>0</td>\n",
       "      <td>3</td>\n",
       "      <td>28.044331</td>\n",
       "      <td>-0.385883</td>\n",
       "      <td>1</td>\n",
       "      <td>1</td>\n",
       "      <td>2</td>\n",
       "      <td>2</td>\n",
       "    </tr>\n",
       "  </tbody>\n",
       "</table>\n",
       "</div>"
      ],
      "text/plain": [
       "   ID Promotion  purchase  V1         V2        V3  V4  V5  V6  V7\n",
       "0   1        No         0   2  30.443518 -1.165083   1   1   3   2\n",
       "1   3        No         0   3  32.159350 -0.645617   2   3   2   2\n",
       "2   4        No         0   2  30.431659  0.133583   1   1   4   2\n",
       "3   5        No         0   0  26.588914 -0.212728   2   1   4   2\n",
       "4   8       Yes         0   3  28.044331 -0.385883   1   1   2   2"
      ]
     },
     "execution_count": 1,
     "metadata": {},
     "output_type": "execute_result"
    }
   ],
   "source": [
    "# load in packages\n",
    "import itertools\n",
    "\n",
    "import datetime\n",
    "\n",
    "from test_results import test_results, score\n",
    "\n",
    "import numpy as np\n",
    "import pandas as pd\n",
    "import scipy.stats as stats\n",
    "import sklearn as sk\n",
    "from sklearn.utils import resample\n",
    "from sklearn.base import BaseEstimator, TransformerMixin\n",
    "from sklearn.preprocessing import StandardScaler\n",
    "from sklearn.ensemble import GradientBoostingClassifier\n",
    "from sklearn.model_selection import GridSearchCV\n",
    "from sklearn.model_selection import train_test_split\n",
    "from sklearn.pipeline import Pipeline\n",
    "from sklearn.metrics import classification_report, precision_score, recall_score, f1_score\n",
    "\n",
    "import matplotlib.pyplot as plt\n",
    "import seaborn as sb\n",
    "%matplotlib inline\n",
    "\n",
    "import warnings\n",
    "warnings.filterwarnings('ignore')\n",
    "\n",
    "# load in the data\n",
    "train_data = pd.read_csv('./training.csv')\n",
    "train_data.head()"
   ]
  },
  {
   "cell_type": "code",
   "execution_count": 2,
   "id": "cea0181c",
   "metadata": {},
   "outputs": [
    {
     "data": {
      "text/html": [
       "<div>\n",
       "<style scoped>\n",
       "    .dataframe tbody tr th:only-of-type {\n",
       "        vertical-align: middle;\n",
       "    }\n",
       "\n",
       "    .dataframe tbody tr th {\n",
       "        vertical-align: top;\n",
       "    }\n",
       "\n",
       "    .dataframe thead th {\n",
       "        text-align: right;\n",
       "    }\n",
       "</style>\n",
       "<table border=\"1\" class=\"dataframe\">\n",
       "  <thead>\n",
       "    <tr style=\"text-align: right;\">\n",
       "      <th></th>\n",
       "      <th>Promotion</th>\n",
       "      <th>purchase</th>\n",
       "      <th>count</th>\n",
       "    </tr>\n",
       "  </thead>\n",
       "  <tbody>\n",
       "    <tr>\n",
       "      <th>0</th>\n",
       "      <td>No</td>\n",
       "      <td>0</td>\n",
       "      <td>41851</td>\n",
       "    </tr>\n",
       "    <tr>\n",
       "      <th>1</th>\n",
       "      <td>No</td>\n",
       "      <td>1</td>\n",
       "      <td>319</td>\n",
       "    </tr>\n",
       "    <tr>\n",
       "      <th>2</th>\n",
       "      <td>Yes</td>\n",
       "      <td>0</td>\n",
       "      <td>41643</td>\n",
       "    </tr>\n",
       "    <tr>\n",
       "      <th>3</th>\n",
       "      <td>Yes</td>\n",
       "      <td>1</td>\n",
       "      <td>721</td>\n",
       "    </tr>\n",
       "  </tbody>\n",
       "</table>\n",
       "</div>"
      ],
      "text/plain": [
       "  Promotion  purchase  count\n",
       "0        No         0  41851\n",
       "1        No         1    319\n",
       "2       Yes         0  41643\n",
       "3       Yes         1    721"
      ]
     },
     "execution_count": 2,
     "metadata": {},
     "output_type": "execute_result"
    }
   ],
   "source": [
    "train_data.groupby(['Promotion','purchase'])['ID'].count().reset_index().rename({'ID':'count'}, axis=1)\n"
   ]
  },
  {
   "cell_type": "markdown",
   "id": "04cdd3e9",
   "metadata": {},
   "source": [
    "# 1. First analyze the difference in purchase rates between the control group and experimental group"
   ]
  },
  {
   "cell_type": "code",
   "execution_count": 3,
   "id": "670fbd1d",
   "metadata": {},
   "outputs": [],
   "source": [
    "def p_evaluation_metrics(n_control, \n",
    "                        n_exper, \n",
    "                        p_null, \n",
    "                        p_click_control,\n",
    "                        p_click_exper,\n",
    "                        alt=\"larger\"):\n",
    "    \n",
    "    \"\"\"\n",
    "    Statistical test to determine if we reached our goal;\n",
    "    \n",
    "    Input:\n",
    "        n_control: size of control group\n",
    "        n_exper: size of experiment group\n",
    "        p_click_control: goal hit rate for control group\n",
    "        p_click_exper: goal hit rate for experiment group\n",
    "        alt: the relationship between p_click_control and p_click_exper in alternative hypothesis;\n",
    "             larger: p_click_exper > p_click_control\n",
    "             small: p_click_exper < p_click_control\n",
    "             different: p_click_exper is not equal to p_click_control\n",
    "    \"\"\"\n",
    "    \n",
    "    # compute standard error, z-score, and p-value\n",
    "    se_p = np.sqrt(p_null * (1-p_null) * (1/n_control + 1/n_exper))\n",
    "    z = (p_click_exper - p_click_control) / se_p\n",
    "    if alt == \"larger\":\n",
    "        p_result = 1-stats.norm.cdf(z)\n",
    "    elif alt == \"smaller\":\n",
    "        p_result = stats.norm.cdf(z)\n",
    "    elif alt == \"different\":\n",
    "        p_result = 2 * stats.norm.cdf(-abs(z))\n",
    "    print(\"Success rate for control group: {}; Success rate for experiment group: {}\".format(round(p_click_control, 4), round(p_click_exper, 4)))\n",
    "    print(\"p value: {}\".format(round(p_result, 4)))"
   ]
  },
  {
   "cell_type": "code",
   "execution_count": 4,
   "id": "7137167e",
   "metadata": {
    "scrolled": true
   },
   "outputs": [
    {
     "name": "stdout",
     "output_type": "stream",
     "text": [
      "Success rate for control group: 0.0076; Success rate for experiment group: 0.017\n",
      "p value: 0.0\n"
     ]
    }
   ],
   "source": [
    "p_evaluation_metrics(sum(train_data['Promotion'] == \"No\"),\n",
    "                     sum(train_data['Promotion'] == \"Yes\"),\n",
    "                     train_data['purchase'].mean(),\n",
    "                     train_data[train_data['Promotion'] == \"No\"]['purchase'].mean(),\n",
    "                     train_data[train_data['Promotion'] == \"Yes\"]['purchase'].mean(),\n",
    "                     alt=\"different\")"
   ]
  },
  {
   "cell_type": "markdown",
   "id": "7c365705",
   "metadata": {},
   "source": [
    "# Functon for evaluating data processing, model evaluation and tuning\n",
    "\n",
    "Our metrics IRR and NIR, all emphasize the idea that we will not only look for increasing the conversions, but also optimizing the ad cost. A very important strategy is to avoid sending ads to customers who are more likely to buy even without seeing the ad and customers who are not likely to buy even when they see the ad. It's ideal to send ads to customers who might not feel interested before they see the ad, but have high chances to convert after they see the ad.\n",
    "\n",
    "Also, when training the model we have to deal with the imbalance in data. As we can see from the analysis above, the conversion rate is very low --- even for experiment group that's 1.7%. If we don't deal with this issue, our model could predict every sample as negative --- the accuracy will still be 98%!\n",
    "\n",
    "To handle data imbalance, we upsample the purchase group and downsample the non-purchase group seperately for control and experiment group --- the sizes of the resampled groups are also tunable. Also, when we split the training data to train set and validation set (usually known as train_test_split), we did a stratified sampling to avoid the senario where there's no positive records in validation set and to make sure that the validation set is close to a real world testing data.\n",
    "\n",
    "When tuning the model, we focused mostly on the loss from errors rather than gainings from giving the ads to the right people. It actually worked quite well in the end. More details can be founded in the docstring in the function evaluate. The reason why we didn't consider true positives here to \"reward\" the model is that when we trained the models, we greatly balanced the data --- we greatly upsampled the purchase group and only sample a little (no more than 10%) from non-purchase group , so we can expect that recall is usually higher than precision. In other words, our model might have done its best to recognize the customers who will make purchases but it can be over optimistic. We want to correct that since giving promotion ads to too many people can greatly increase the cost of the campaign."
   ]
  },
  {
   "cell_type": "code",
   "execution_count": 5,
   "id": "721eeb47",
   "metadata": {},
   "outputs": [],
   "source": [
    "def customize_train_test_split(data,\n",
    "                               tag_col,\n",
    "                               minority_tag_value):\n",
    "    \n",
    "    \"\"\"\n",
    "    Do train_test_split on minority group and majority group seperately\n",
    "    -- sample 20% minority and 20% majority to the final test set\n",
    "    \n",
    "    This process doesn't drop any columns\n",
    "    \n",
    "    Input:\n",
    "        data: the data to split\n",
    "        tag_col: column for the class label\n",
    "        minority_tag_value: class label that has very few representatives\n",
    "    \"\"\"\n",
    "    \n",
    "    data_minor = data[data[tag_col] == minority_tag_value]\n",
    "    data_major = data[data[tag_col] != minority_tag_value]\n",
    "    \n",
    "    train_minor, test_minor = train_test_split(data_minor, test_size=0.2)\n",
    "    train_major, test_major = train_test_split(data_major, test_size=0.2)\n",
    "    \n",
    "    train = pd.concat([train_minor, train_major]).sample(frac=1)\n",
    "    test = pd.concat([test_minor, test_major]).sample(frac=1)\n",
    "    \n",
    "    return train, test"
   ]
  },
  {
   "cell_type": "code",
   "execution_count": 6,
   "id": "b3faa7a8",
   "metadata": {},
   "outputs": [],
   "source": [
    "def resampler(data, \n",
    "              tag_col,\n",
    "              minority_tag_value,\n",
    "              minority_group_size,\n",
    "              majority_group_size):\n",
    "    \n",
    "    \"\"\"\n",
    "    Handle the imbalanced data\n",
    "    \n",
    "    For minority group we upsample the data with replacement; \n",
    "    For majority group we downsample the data without replacement;\n",
    "    \n",
    "    This process doesn't drop any columns\n",
    "    \n",
    "    Input:\n",
    "        data: the data to split\n",
    "        tag_col: column for the class label\n",
    "        minority_tag_value: class label that has very few representatives\n",
    "        minority_group_size: group size of the minority group after resampling\n",
    "        majority_group_size: group size of the majority group after resampling\n",
    "    \"\"\"\n",
    "    \n",
    "    minority_resample = resample(data[data[tag_col] == minority_tag_value], \n",
    "                                 replace=True,\n",
    "                                 n_samples=minority_group_size)\n",
    "    majority_resample = resample(data[data[tag_col] != minority_tag_value], \n",
    "                                 replace=False,\n",
    "                                 n_samples=majority_group_size)\n",
    "    resampled_data = pd.concat([minority_resample, majority_resample])\n",
    "    return resampled_data\n"
   ]
  },
  {
   "cell_type": "code",
   "execution_count": 7,
   "id": "99fb5bdf",
   "metadata": {},
   "outputs": [],
   "source": [
    "def train_model(X, y, learning_rate=0.1, max_depth=10, min_samples_split=2):\n",
    "    \n",
    "    \"\"\"\n",
    "    A general function for a machine learning pipeline of \n",
    "    (1) scaling all the variables\n",
    "    (2) training a GradientBoostingClassifier with specified parameters\n",
    "    \n",
    "    The model returned is a trained Pipeline object\n",
    "    \"\"\"\n",
    "    \n",
    "    clf = GradientBoostingClassifier(learning_rate=learning_rate, \n",
    "                                 max_depth=max_depth, \n",
    "                                 min_samples_split=min_samples_split)\n",
    "    \n",
    "    model = Pipeline([\n",
    "        ('scaler', StandardScaler()),\n",
    "        ('clf', clf)\n",
    "    ])\n",
    "    \n",
    "    model.fit(X, y)\n",
    "\n",
    "    return model"
   ]
  },
  {
   "cell_type": "code",
   "execution_count": 8,
   "id": "f85c115c",
   "metadata": {},
   "outputs": [],
   "source": [
    "def test_model(model, X, y):\n",
    "    \n",
    "    \"\"\"\n",
    "    A general function for checking the f1, precision and recall score of the model;\n",
    "    Actually we won't use it since we will have different scoring function for tuning the model,\n",
    "    but when building the model we might want to have a look at these more \"traditional\" scorings \n",
    "    to understand how our model is performing\n",
    "    \n",
    "    Output is a dictionary with 'precision', 'recall' and 'f1'\n",
    "    \"\"\"\n",
    "    \n",
    "    y_pred = model.predict(X)\n",
    "    result = {}\n",
    "    result['precision'] = precision_score(y, y_pred)\n",
    "    result['recall'] = recall_score(y, y_pred)\n",
    "    result['f1'] = f1_score(y, y_pred)\n",
    "    return result"
   ]
  },
  {
   "cell_type": "code",
   "execution_count": 9,
   "id": "46683999",
   "metadata": {},
   "outputs": [],
   "source": [
    "def train_model_full(train, \n",
    "                     minority_group_size, \n",
    "                     majority_group_size, \n",
    "                     learning_rate=0.1, \n",
    "                     max_depth=10, \n",
    "                     min_samples_split=2):\n",
    "    \n",
    "    \"\"\"\n",
    "    A general function of of resampling the data and training a model.\n",
    "    \n",
    "    Input:\n",
    "        train: the training data (after train_test_split)\n",
    "        minority_group_size: group size of the minority group after resampling\n",
    "        majority_group_size: group size of the majority group after resampling\n",
    "        learning_rate: parameter for GradientBoostingClassifier \n",
    "        max_depth: parameter for GradientBoostingClassifier \n",
    "        min_samples_split: parameter for GradientBoostingClassifier \n",
    "    \"\"\"\n",
    "    \n",
    "    re_train = resampler(train, \"purchase\", 1, minority_group_size, majority_group_size)\n",
    "    X = re_train[['V1','V2','V3','V4','V5','V6','V7']]\n",
    "    y = re_train['purchase']\n",
    "    model = train_model(X, \n",
    "                        y, \n",
    "                        learning_rate=learning_rate, \n",
    "                        max_depth=max_depth, \n",
    "                        min_samples_split=min_samples_split)\n",
    "    \n",
    "    return model"
   ]
  },
  {
   "cell_type": "code",
   "execution_count": 10,
   "id": "fe8562c4",
   "metadata": {},
   "outputs": [],
   "source": [
    "def generate_promotion_customer_list(data,\n",
    "                                     data_to_predict,\n",
    "                                     control_minority_group_size,\n",
    "                                     control_majority_group_size,\n",
    "                                     expr_minority_group_size,\n",
    "                                     expr_majority_group_size,\n",
    "                                     learning_rate=0.1, \n",
    "                                     max_depth=10, \n",
    "                                     min_samples_split=2):\n",
    "    \n",
    "    \"\"\"\n",
    "    Train 2 models to predict whether a customer will buy the product:\n",
    "    --- one on control group and another one on experiemnt group\n",
    "    \n",
    "    Predict with the 2 models:\n",
    "    --- result from the model trained on control group: whether a customer\n",
    "        will purchase if they don't see the ad\n",
    "    --- result from the model trained on experiment group: whether a customer\n",
    "        will purchase if they see the ad\n",
    "        \n",
    "    This function might not be well named :) Because it doesn't directly generate the \n",
    "    promotion customer list. \n",
    "    \n",
    "    Input:\n",
    "        data: the training data (after train_test_split)\n",
    "        data_to_predict: testing data or validation data\n",
    "        control_minority_group_size: group size of the purchase control group after resampling\n",
    "        control_majority_group_size: group size of the non-purchase control group after resampling\n",
    "        expr_minority_group_size: group size of the purchase experiment group after resampling\n",
    "        expr_majority_group_size: group size of the non-purchase experiment group after resampling\n",
    "        learning_rate: parameter for GradientBoostingClassifier \n",
    "        max_depth: parameter for GradientBoostingClassifier \n",
    "        min_samples_split: parameter for GradientBoostingClassifier \n",
    "        \n",
    "    \n",
    "    The output is the table data_to_predict with 2 extra columns:\n",
    "        purchase without ad: whether a customer will purchase if they don't see the ad\n",
    "        purchase with ad: whether a customer will purchase if they see the ad\n",
    "    \"\"\"\n",
    "    \n",
    "    model1 = train_model_full(data[data['Promotion'] == \"No\"],\n",
    "                              control_minority_group_size,\n",
    "                              control_majority_group_size,\n",
    "                              learning_rate=learning_rate, \n",
    "                              max_depth=max_depth, \n",
    "                              min_samples_split=min_samples_split)\n",
    "    \n",
    "    y1 = model1.predict(data_to_predict[['V1','V2','V3','V4','V5','V6','V7']])\n",
    "    \n",
    "    data_to_predict['purchase without ad'] = y1\n",
    "    \n",
    "    model2 = train_model_full(data[data['Promotion'] == \"Yes\"],\n",
    "                              expr_minority_group_size,\n",
    "                              expr_majority_group_size,\n",
    "                              learning_rate=learning_rate, \n",
    "                              max_depth=max_depth, \n",
    "                              min_samples_split=min_samples_split)\n",
    "    \n",
    "    y2 = model2.predict(data_to_predict[['V1','V2','V3','V4','V5','V6','V7']])\n",
    "    \n",
    "    data_to_predict['purchase with ad'] = y2\n",
    "    \n",
    "    return data_to_predict\n"
   ]
  },
  {
   "cell_type": "code",
   "execution_count": 11,
   "id": "09e0c993",
   "metadata": {},
   "outputs": [],
   "source": [
    "def evaluate(y_pred_pd):\n",
    "    \n",
    "    \"\"\"\n",
    "    We mainly focus on the loss (rather than the people we successfully predicted that will make purchase)\n",
    "    \n",
    "    ### Check control group\n",
    "    If we predict that the customer will buy without ad but actually they didn't buy\n",
    "     -> under this case we won't promote to the customer\n",
    "     ---- if the customer won't buy either after seeing the ad then we are fine;\n",
    "     ---- if the customer will buy after seeing the ad then we are losing $(10 - 0.15) --> Based on the data from \n",
    "          the previous round, 1.7% of the people who saw ads will buy \n",
    "    if we predict that the customer won't buy without ad but actually they bought\n",
    "     -> we actually don't need to promote to the customer but if we also predict that they will buy with the ad we \n",
    "        will end up promote to them. Then we are losing $0.15\n",
    "        \n",
    "    ### Check experiment group\n",
    "    if we predict that the customer will buy with the ad but actually they didn't \n",
    "     ---- if we also predict that they will buy without the ad then we are fine\n",
    "     ---- if not, we are giving them the ad while we don't need to. Then we are losing $0.15\n",
    "    if we predict that the customer won't buy with the ad but they bought\n",
    "     -> under this case we won't give them the ad. \n",
    "     ---- if the customer won't buy without ad --> we should've gave them the ad --> we are losing $(10 - 0.15) -->\n",
    "          (100% - 0.76%) of the people won't buy without ad\n",
    "     ---- if the customer will buy without ad then we are fine\n",
    "     \n",
    "    \"\"\"\n",
    "    \n",
    "    y_pred_control = y_pred_pd[y_pred_pd['Promotion'] == \"No\"]\n",
    "    y_pred_expr = y_pred_pd[y_pred_pd['Promotion'] == \"Yes\"]\n",
    "    \n",
    "    loss = 0.017 * (10 - 0.15) * sum((y_pred_control['purchase without ad'] == 1) & \\\n",
    "                                     (y_pred_control['purchase'] == 0)) + \\\n",
    "           0.15 * sum((y_pred_control['purchase without ad'] == 0) & \\\n",
    "                      (y_pred_control['purchase'] == 1) & \\\n",
    "                      (y_pred_control['purchase with ad'] == 1)) + \\\n",
    "           0.15 * sum((y_pred_expr['purchase with ad'] == 1) & \\\n",
    "                      (y_pred_expr['purchase'] == 0) & \\\n",
    "                      (y_pred_expr['purchase without ad'] == 0)) + \\\n",
    "           (1 - 0.0076) * (10 - 0.15) * sum((y_pred_expr['purchase with ad'] == 0) & \\\n",
    "                                            (y_pred_expr['purchase'] == 1)) \n",
    "    \n",
    "    return loss"
   ]
  },
  {
   "cell_type": "markdown",
   "id": "ba0ce25e",
   "metadata": {},
   "source": [
    "## 3. Tune the model --- find the best parameters\n",
    "\n",
    "Parameters for us train include:\n",
    "\n",
    "**control_minority_group_size:** group size of the purchase control group after resampling<br>\n",
    "**control_majority_group_size:** group size of the non-purchase control group after resampling<br>\n",
    "**expr_minority_group_size:** group size of the purchase experiment group after resampling<br>\n",
    "**expr_majority_group_size:** group size of the non-purchase experiment group after resampling<br>\n",
    "**learning_rate:** parameter for GradientBoostingClassifier<br>\n",
    "**max_depth:** parameter for GradientBoostingClassifier<br>\n",
    "**min_samples_split:** parameter for GradientBoostingClassifier<br>\n",
    "\n"
   ]
  },
  {
   "cell_type": "markdown",
   "id": "84cdaa5e",
   "metadata": {},
   "source": [
    "## 3.1 Split our original data train_data to trainning set and testing set\n",
    "\n",
    "In each dataset, control group data and experiment data are mixed together because there's a column Promotion to indicate whether a record is in one group or another. Later in our functions we will be able to split them.4\n",
    "\n"
   ]
  },
  {
   "cell_type": "code",
   "execution_count": 12,
   "id": "110d5a39",
   "metadata": {},
   "outputs": [],
   "source": [
    "control_train, control_test = customize_train_test_split(train_data[train_data['Promotion'] == \"No\"], \"purchase\", 1)\n",
    "expr_train, expr_test = customize_train_test_split(train_data[train_data['Promotion'] == \"Yes\"], \"purchase\", 1)\n",
    "train = pd.concat([control_train, expr_train])\n",
    "test = pd.concat([control_test, expr_test])"
   ]
  },
  {
   "cell_type": "markdown",
   "id": "9afe9bd6",
   "metadata": {},
   "source": [
    "# 3.2 Specify the candidate values for each variable and create a list of all combinations of the values\n"
   ]
  },
  {
   "cell_type": "code",
   "execution_count": 13,
   "id": "a912a32d",
   "metadata": {},
   "outputs": [],
   "source": [
    "control_minority_group_size = [1000, 1200]\n",
    "control_majority_group_size = [2000, 3000]\n",
    "expr_minority_group_size = [3000, 4000]\n",
    "expr_majority_group_size = [4000, 5000]\n",
    "learning_rate = [0.01, 0.02]\n",
    "max_depth = [6, 8]\n",
    "min_samples_split = [2, 4]"
   ]
  },
  {
   "cell_type": "code",
   "execution_count": 14,
   "id": "75a77a41",
   "metadata": {},
   "outputs": [],
   "source": [
    "params = list(itertools.product(*[control_minority_group_size, \n",
    "                         control_majority_group_size,\n",
    "                         expr_minority_group_size,\n",
    "                         expr_majority_group_size,\n",
    "                         learning_rate,\n",
    "                         max_depth,\n",
    "                         min_samples_split]))"
   ]
  },
  {
   "cell_type": "markdown",
   "id": "843b316e",
   "metadata": {},
   "source": [
    "# 3.3 Gridsearch on the variables\n",
    "\n",
    "For each parameter combination, we run generate_promotion_customer_list 5 times and then calculate average loss. This is an approximate methods to 5 folds cross validation. Rather than spliting the data to 5 folds ahead and use one fold as validation set at one time, we randomly split data each time we run the model. This might be the laziness of the author :) and can be improved by 5 folds validation in the future."
   ]
  },
  {
   "cell_type": "code",
   "execution_count": 15,
   "id": "7631882e",
   "metadata": {},
   "outputs": [
    {
     "name": "stdout",
     "output_type": "stream",
     "text": [
      "running time: 3e+01 min\n",
      "Minimum average loss: 1021.753772\n",
      "Best params : (1000, 3000, 4000, 4000, 0.01, 6, 4)\n"
     ]
    }
   ],
   "source": [
    "loss_list = []\n",
    "begin = datetime.datetime.now()\n",
    "for p in params: \n",
    "    l = []\n",
    "    for i in range(5):\n",
    "        y_pred_pd = generate_promotion_customer_list(train,\n",
    "                                                     test,\n",
    "                                                     p[0],\n",
    "                                                     p[1],\n",
    "                                                     p[2],\n",
    "                                                     p[3],\n",
    "                                                     p[4],\n",
    "                                                     p[5])\n",
    "        l.append(evaluate(y_pred_pd))\n",
    "\n",
    "    loss_list.append(l)\n",
    "time_pass = (datetime.datetime.now() - begin).seconds / 60\n",
    "print(\"running time: {:.2} min\".format(time_pass))\n",
    "average_loss_list = list(np.mean(np.array(loss_list), axis=1))\n",
    "print(\"Minimum average loss: {}\".format(min(average_loss_list)))\n",
    "best_params = params[average_loss_list.index(min(average_loss_list))]\n",
    "print(\"Best params : {}\".format(best_params))"
   ]
  },
  {
   "cell_type": "markdown",
   "id": "31877d77",
   "metadata": {},
   "source": [
    "3.4 The best parameters and minimum average loss\n"
   ]
  },
  {
   "cell_type": "code",
   "execution_count": 16,
   "id": "f19326e1",
   "metadata": {},
   "outputs": [],
   "source": [
    "average_loss_list = list(np.mean(np.array(loss_list), axis=1))\n"
   ]
  },
  {
   "cell_type": "code",
   "execution_count": 17,
   "id": "ee4f80c5",
   "metadata": {},
   "outputs": [
    {
     "data": {
      "text/plain": [
       "1021.753772"
      ]
     },
     "execution_count": 17,
     "metadata": {},
     "output_type": "execute_result"
    }
   ],
   "source": [
    "#minimum average loss\n",
    "min(average_loss_list)"
   ]
  },
  {
   "cell_type": "code",
   "execution_count": 18,
   "id": "5179a2da",
   "metadata": {},
   "outputs": [
    {
     "data": {
      "text/plain": [
       "{'precision': 0.017985611510791366,\n",
       " 'recall': 0.023923444976076555,\n",
       " 'f1': 0.02053388090349076}"
      ]
     },
     "execution_count": 18,
     "metadata": {},
     "output_type": "execute_result"
    }
   ],
   "source": [
    "test_model(train_model_full(train[train['Promotion'] == \"No\"], \n",
    "                     1200, \n",
    "                     2000, \n",
    "                     learning_rate=0.01, \n",
    "                     max_depth=6, \n",
    "                     min_samples_split=2),\n",
    "                test[['V1','V2','V3','V4','V5','V6','V7']],\n",
    "                test['purchase'])"
   ]
  },
  {
   "cell_type": "code",
   "execution_count": 19,
   "id": "efa7d25b",
   "metadata": {},
   "outputs": [
    {
     "data": {
      "text/plain": [
       "{'precision': 0.016669147194522994,\n",
       " 'recall': 0.5358851674641149,\n",
       " 'f1': 0.03233256351039261}"
      ]
     },
     "execution_count": 19,
     "metadata": {},
     "output_type": "execute_result"
    }
   ],
   "source": [
    "test_model(train_model_full(train[train['Promotion'] == \"Yes\"], \n",
    "                     10000, \n",
    "                     10000, \n",
    "                     learning_rate=0.01, \n",
    "                     max_depth=6, \n",
    "                     min_samples_split=2),\n",
    "                test[['V1','V2','V3','V4','V5','V6','V7']],\n",
    "                test['purchase'])"
   ]
  },
  {
   "cell_type": "code",
   "execution_count": 20,
   "id": "c1eb5d3e",
   "metadata": {},
   "outputs": [],
   "source": [
    "def promotion_strategy(df):\n",
    "    \n",
    "    '''\n",
    "    INPUT \n",
    "    df - a dataframe with *only* the columns V1 - V7 (same as train_data)\n",
    "\n",
    "    OUTPUT\n",
    "    promotion_df - np.array with the values\n",
    "                   'Yes' or 'No' related to whether or not an \n",
    "                   individual should recieve a promotion \n",
    "                   should be the length of df.shape[0]\n",
    "                \n",
    "    Ex:\n",
    "    INPUT: df\n",
    "    \n",
    "    V1\tV2\t  V3\tV4\tV5\tV6\tV7\n",
    "    2\t30\t-1.1\t1\t1\t3\t2\n",
    "    3\t32\t-0.6\t2\t3\t2\t2\n",
    "    2\t30\t0.13\t1\t1\t4\t2\n",
    "    \n",
    "    OUTPUT: promotion\n",
    "    \n",
    "    array(['Yes', 'Yes', 'No'])\n",
    "    indicating the first two users would recieve the promotion and \n",
    "    the last should not.\n",
    "    '''\n",
    "    \n",
    "    y_pred_pd = generate_promotion_customer_list(train_data,\n",
    "                                     df,\n",
    "                                     best_params[0],\n",
    "                                     best_params[1],\n",
    "                                     best_params[2],\n",
    "                                     best_params[3],\n",
    "                                     learning_rate=best_params[4], \n",
    "                                     max_depth=best_params[5], \n",
    "                                     min_samples_split=best_params[6])\n",
    "    \n",
    "    result = np.array(((y_pred_pd['purchase without ad'] == 0) & (y_pred_pd['purchase with ad'] == 1))\\\n",
    "             .apply(lambda x: \"Yes\" if x else \"No\"))\n",
    "    \n",
    "    return result"
   ]
  },
  {
   "cell_type": "code",
   "execution_count": 24,
   "id": "b0e40e1c",
   "metadata": {},
   "outputs": [
    {
     "name": "stdout",
     "output_type": "stream",
     "text": [
      "Nice job!  See how well your strategy worked on our test data below!\n",
      "\n",
      "Your irr with this strategy is 0.0189.\n",
      "\n",
      "Your nir with this strategy is 347.70.\n",
      "We came up with a model with an irr of 0.0188 and an nir of 189.45 on the test set.\n",
      "\n",
      " How did you do?\n"
     ]
    },
    {
     "data": {
      "text/plain": [
       "(0.01894361672172826, 347.70000000000005)"
      ]
     },
     "execution_count": 24,
     "metadata": {},
     "output_type": "execute_result"
    }
   ],
   "source": [
    "# This will test your results, and provide you back some information \n",
    "# on how well your promotion_strategy will work in practice\n",
    "\n",
    "test_results(promotion_strategy)"
   ]
  },
  {
   "cell_type": "code",
   "execution_count": 22,
   "id": "7f00cc57",
   "metadata": {},
   "outputs": [
    {
     "name": "stdout",
     "output_type": "stream",
     "text": [
      "Run the model for 10 times\n",
      "Distributions of irr and nir:\n"
     ]
    },
    {
     "data": {
      "image/png": "[encoded data removed]",
      "text/plain": [
       "<Figure size 1200x500 with 2 Axes>"
      ]
     },
     "metadata": {},
     "output_type": "display_data"
    }
   ],
   "source": [
    "def test_results_distributions(promotion_strategy, numbers_run=10):\n",
    "    print(\"Run the model for {} times\".format(numbers_run))\n",
    "    test_data = pd.read_csv('Test.csv')\n",
    "    df = test_data[['V1', 'V2', 'V3', 'V4', 'V5', 'V6', 'V7']]\n",
    "    irrs = []\n",
    "    nirs = []\n",
    "    for i in range(numbers_run):\n",
    "        promos = promotion_strategy(df)\n",
    "        score_df = test_data.iloc[np.where(promos == 'Yes')]    \n",
    "        irr, nir = score(score_df)\n",
    "        irrs.append(irr)\n",
    "        nirs.append(nir)\n",
    "    print(\"Distributions of irr and nir:\")\n",
    "    plt.figure(figsize=(12,5))\n",
    "    plt.subplot(1, 2, 1)\n",
    "    plt.hist(irrs)\n",
    "    a1=plt.title('irr')\n",
    "    plt.subplot(1, 2, 2)\n",
    "    plt.hist(nirs)\n",
    "    a1=plt.title('nir')\n",
    "\n",
    "test_results_distributions(promotion_strategy)"
   ]
  },
  {
   "cell_type": "code",
   "execution_count": null,
   "id": "8fad1f61",
   "metadata": {},
   "outputs": [],
   "source": []
  }
 ],
 "metadata": {
  "kernelspec": {
   "display_name": "Python 3 (ipykernel)",
   "language": "python",
   "name": "python3"
  },
  "language_info": {
   "codemirror_mode": {
    "name": "ipython",
    "version": 3
   },
   "file_extension": ".py",
   "mimetype": "text/x-python",
   "name": "python",
   "nbconvert_exporter": "python",
   "pygments_lexer": "ipython3",
   "version": "3.10.9"
  }
 },
 "nbformat": 4,
 "nbformat_minor": 5
}
